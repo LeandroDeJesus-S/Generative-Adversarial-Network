{
 "cells": [
  {
   "cell_type": "code",
   "execution_count": null,
   "metadata": {},
   "outputs": [],
   "source": [
    "import tensorflow as tf\n",
    "import numpy as np\n",
    "import matplotlib.pyplot as plt\n",
    "import imageio\n",
    "import os\n",
    "import PIL\n",
    "import time\n",
    "import glob\n",
    "from tqdm import tqdm\n",
    "\n",
    "from tensorflow.keras import layers\n",
    "from IPython import display"
   ]
  },
  {
   "cell_type": "code",
   "execution_count": null,
   "metadata": {},
   "outputs": [],
   "source": [
    "# Carregando os dados do MNIST\n",
    "(train_imgs, train_labels), _ = tf.keras.datasets.mnist.load_data()"
   ]
  },
  {
   "cell_type": "code",
   "execution_count": null,
   "metadata": {},
   "outputs": [],
   "source": [
    "# normalizando para -1 e 1\n",
    "train_imgs = np.expand_dims(train_imgs, axis=-1).astype(np.float32)\n",
    "train_imgs = (train_imgs - 127.5) / 127.5"
   ]
  },
  {
   "cell_type": "code",
   "execution_count": null,
   "metadata": {},
   "outputs": [],
   "source": [
    "BUFFER_SIZE = 60000\n",
    "BATCH_SIZE = 256\n",
    "LATENT_DIM = 100\n",
    "N_IMG_TO_GENERATE = 8\n",
    "IMAGE_SIZE = 28, 28\n",
    "CHANNELS = 1,\n",
    "IMAGE_SHAPE = IMAGE_SIZE + CHANNELS "
   ]
  },
  {
   "cell_type": "code",
   "execution_count": null,
   "metadata": {},
   "outputs": [],
   "source": [
    "train_ds = tf.data.Dataset.from_tensor_slices(train_imgs).shuffle(BUFFER_SIZE).batch(BATCH_SIZE)"
   ]
  },
  {
   "cell_type": "code",
   "execution_count": null,
   "metadata": {},
   "outputs": [],
   "source": [
    "GENERATOR = tf.keras.Sequential([\n",
    "    layers.Dense(7*7*256, use_bias=False, input_shape=(LATENT_DIM,)),\n",
    "    layers.BatchNormalization(),\n",
    "    layers.LeakyReLU(),\n",
    "    \n",
    "    layers.Reshape((7, 7, 256)),\n",
    "    \n",
    "    layers.Conv2DTranspose(128, (5, 5), strides=(1, 1), padding='same', use_bias=False),\n",
    "    layers.BatchNormalization(),\n",
    "    layers.LeakyReLU(),\n",
    "    \n",
    "    layers.Conv2DTranspose(64, (5, 5), strides=(2, 2), padding='same', use_bias=False),\n",
    "    layers.BatchNormalization(),\n",
    "    layers.LeakyReLU(),\n",
    "    \n",
    "    layers.Conv2DTranspose(CHANNELS, (5, 5), strides=(2, 2), padding='same', use_bias=False, activation='tanh'),\n",
    "])"
   ]
  },
  {
   "cell_type": "code",
   "execution_count": null,
   "metadata": {},
   "outputs": [],
   "source": [
    "# Criando uma imagem com o gerador (não treinado)\n",
    "noise = tf.random.normal([1, LATENT_DIM])\n",
    "generated_image = GENERATOR(noise, training=False)\n",
    "\n",
    "plt.imshow(generated_image[0, :, :, 0], cmap='gray')"
   ]
  },
  {
   "cell_type": "code",
   "execution_count": null,
   "metadata": {},
   "outputs": [],
   "source": [
    "DISCRIMINATOR = tf.keras.Sequential([\n",
    "    layers.Conv2D(64, (5, 5), strides=(2, 2), padding='same', input_shape=IMAGE_SHAPE),\n",
    "    layers.LeakyReLU(),\n",
    "    layers.Dropout(.2),\n",
    "    \n",
    "    layers.Conv2D(128, (5, 5), strides=(1, 1), padding='same'),\n",
    "    layers.LeakyReLU(),\n",
    "    layers.Dropout(.2),\n",
    "    \n",
    "    layers.Flatten(),\n",
    "    layers.Dense(1)\n",
    "])"
   ]
  },
  {
   "cell_type": "code",
   "execution_count": null,
   "metadata": {},
   "outputs": [],
   "source": [
    "decision = DISCRIMINATOR(generated_image)\n",
    "print (decision)"
   ]
  },
  {
   "cell_type": "code",
   "execution_count": null,
   "metadata": {},
   "outputs": [],
   "source": [
    "# definindo as funções de erro\n",
    "cross_entropy = tf.keras.losses.BinaryCrossentropy(from_logits=True)\n",
    "def discriminator_loss(real_output, fake_output):\n",
    "    real_loss = cross_entropy(tf.ones_like(real_output), real_output)\n",
    "    fake_loss = cross_entropy(tf.zeros_like(fake_output), fake_output)\n",
    "    total_loss = real_loss + fake_loss\n",
    "    return total_loss\n",
    "\n",
    "\n",
    "def generator_loss(fake_output):\n",
    "    loss = cross_entropy(tf.zeros_like(fake_output), fake_output)\n",
    "    return loss"
   ]
  },
  {
   "cell_type": "code",
   "execution_count": null,
   "metadata": {},
   "outputs": [],
   "source": [
    "# definindo os otimizadores\n",
    "discriminator_optim = tf.keras.optimizers.Adam(1e-4)\n",
    "generator_optim = tf.keras.optimizers.Adam(1e-4)"
   ]
  },
  {
   "cell_type": "code",
   "execution_count": null,
   "metadata": {},
   "outputs": [],
   "source": [
    "@tf.function\n",
    "def train_step(images):\n",
    "    noise = tf.random.normal([BATCH_SIZE, LATENT_DIM])\n",
    "    \n",
    "    # DISCRIMINATOR TRAIN\n",
    "    with tf.GradientTape() as disc_tape:\n",
    "        fake_img = GENERATOR(noise, training=False)\n",
    "        \n",
    "        fake_out = DISCRIMINATOR(fake_img, training=True)\n",
    "        real_out = DISCRIMINATOR(images, training=True)\n",
    "        \n",
    "        disc_loss = discriminator_loss(real_out, fake_out)\n",
    "        \n",
    "    disc_grads = disc_tape.gradient(disc_loss, DISCRIMINATOR.trainable_weights)\n",
    "    discriminator_optim.apply_gradients(zip(disc_grads, DISCRIMINATOR.trainable_weights))\n",
    "        \n",
    "    # GENERATOR TRAIN\n",
    "    with tf.GradientTape() as gen_tape:\n",
    "        generated_img = GENERATOR(noise, training=True)\n",
    "        \n",
    "        fake_out = DISCRIMINATOR(generated_img, training=False)\n",
    "        \n",
    "        gen_loss = generator_loss(fake_out)\n",
    "        \n",
    "    gen_gradients = gen_tape.gradient(gen_loss, GENERATOR.trainable_variables)\n",
    "    generator_optim.apply_gradients(zip(gen_gradients, GENERATOR.trainable_variables))"
   ]
  },
  {
   "cell_type": "code",
   "execution_count": null,
   "metadata": {},
   "outputs": [],
   "source": [
    "for epoch in range(2000):\n",
    "    for imgs in tqdm(train_ds, desc=f'Epoch {epoch}', ascii=True):\n",
    "        train_step(imgs)"
   ]
  },
  {
   "cell_type": "code",
   "execution_count": null,
   "metadata": {},
   "outputs": [],
   "source": [
    "seed = tf.random.normal([N_IMG_TO_GENERATE, LATENT_DIM])"
   ]
  },
  {
   "cell_type": "code",
   "execution_count": null,
   "metadata": {},
   "outputs": [],
   "source": [
    "generated_image = GENERATOR.predict(seed)\n",
    "\n",
    "for i in range(generated_image.shape[0]):\n",
    "    plt.subplot(2, 4, i+1)\n",
    "    plt.imshow(generated_image[i], cmap='gray')\n",
    "    plt.axis('off')"
   ]
  }
 ],
 "metadata": {
  "kernelspec": {
   "display_name": "base",
   "language": "python",
   "name": "python3"
  },
  "language_info": {
   "codemirror_mode": {
    "name": "ipython",
    "version": 3
   },
   "file_extension": ".py",
   "mimetype": "text/x-python",
   "name": "python",
   "nbconvert_exporter": "python",
   "pygments_lexer": "ipython3",
   "version": "3.9.13"
  }
 },
 "nbformat": 4,
 "nbformat_minor": 2
}
